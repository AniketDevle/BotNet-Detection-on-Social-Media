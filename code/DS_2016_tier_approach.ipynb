{
 "cells": [
  {
   "cell_type": "code",
   "execution_count": null,
   "id": "692bf83d",
   "metadata": {},
   "outputs": [],
   "source": [
    "import numpy as np\n",
    "import pandas as pd\n",
    "import csv\n",
    "from collections import Counter  "
   ]
  },
  {
   "cell_type": "code",
   "execution_count": null,
   "id": "207680ce",
   "metadata": {},
   "outputs": [],
   "source": [
    "all_bots = pd.read_csv('botnames.csv')\n",
    "all_bot_names = set()\n",
    "for i in all_bots.itertuples():\n",
    "    all_bot_names.add(i[2])"
   ]
  },
  {
   "cell_type": "code",
   "execution_count": null,
   "id": "5231012a",
   "metadata": {},
   "outputs": [],
   "source": [
    "Data = pd.read_csv('shares_df_2016.csv')\n",
    "Data = Data.drop_duplicates()\n",
    "\n",
    "all_bots_in_2018_dataset = set()"
   ]
  },
  {
   "cell_type": "code",
   "execution_count": null,
   "id": "b466c743",
   "metadata": {},
   "outputs": [],
   "source": [
    "all_non_suspects_after_threshold_one = set()\n",
    "all_suspects_after_threshold_one = set()\n",
    "unique_accounts= set()"
   ]
  },
  {
   "cell_type": "code",
   "execution_count": null,
   "id": "3eb99641",
   "metadata": {},
   "outputs": [],
   "source": [
    "Data_for_second_threshold = []\n",
    "for datarow in Data.itertuples():\n",
    "    coordinated = datarow[6]\n",
    "    Screen_name_from = datarow[3]\n",
    "    unique_accounts.add(Screen_name_from)\n",
    "\n",
    "    # for finding all the bots that are present in the 2016 dataset\n",
    "    if Screen_name_from in all_bot_names:\n",
    "        all_bots_in_2018_dataset.add(Screen_name_from)\n",
    "\n",
    "    if coordinated:\n",
    "        tid = datarow[1]\n",
    "        retweet_tid = datarow[2]\n",
    "        Screen_name_to = datarow[4]\n",
    "        Data_for_second_threshold.append([tid, retweet_tid, Screen_name_from, Screen_name_to])\n",
    "\n",
    "        all_suspects_after_threshold_one.add(Screen_name_from)\n",
    "\n",
    "    else:\n",
    "        all_non_suspects_after_threshold_one.add(Screen_name_from)"
   ]
  },
  {
   "cell_type": "code",
   "execution_count": null,
   "id": "6dcd0da4",
   "metadata": {},
   "outputs": [],
   "source": [
    "#tier2 calculation\n",
    "Data_for_second_threshold = []\n",
    "for datarow in Data.itertuples():\n",
    "    coordinated = datarow[6]\n",
    "    Screen_name_from = datarow[3]\n",
    "    unique_accounts.add(Screen_name_from)\n",
    "\n",
    "    # for finding all the bots that are present in the 2016 dataset\n",
    "    if Screen_name_from in all_bot_names:\n",
    "        all_bots_in_2018_dataset.add(Screen_name_from)\n",
    "\n",
    "\n",
    "    tid = datarow[1]\n",
    "    retweet_tid = datarow[2]\n",
    "    Screen_name_to = datarow[4]\n",
    "    Data_for_second_threshold.append([tid, retweet_tid, Screen_name_from, Screen_name_to])\n",
    "\n",
    "    all_suspects_after_threshold_one.add(Screen_name_from)\n",
    "\n",
    "#     else:\n",
    "#         all_non_suspects_after_threshold_one.add(Screen_name_from)"
   ]
  },
  {
   "cell_type": "code",
   "execution_count": null,
   "id": "abf0315b",
   "metadata": {},
   "outputs": [],
   "source": [
    "Dict = {}\n",
    "for i in Data_for_second_threshold:\n",
    "    tid = i[0]\n",
    "    retweet_tid = i[1]\n",
    "    Screen_name_from = i[2]\n",
    "    Screen_name_to = i[3]\n",
    "\n",
    "    if retweet_tid not in Dict:\n",
    "        Dict[retweet_tid] = set()\n",
    "    Dict[retweet_tid].add(Screen_name_from)"
   ]
  },
  {
   "cell_type": "code",
   "execution_count": null,
   "id": "cca2bd68",
   "metadata": {},
   "outputs": [],
   "source": [
    "print(len(Dict))"
   ]
  },
  {
   "cell_type": "code",
   "execution_count": null,
   "id": "aa97e39e",
   "metadata": {
    "scrolled": true
   },
   "outputs": [],
   "source": [
    "Final_result_Dict = {}\n",
    "\n",
    "for ind,i in enumerate(Dict):\n",
    "    Set_for_this_retweet =list(Dict[i])\n",
    "    set_length = len(Set_for_this_retweet)\n",
    "\n",
    "    if set_length > 1:\n",
    "        for i in range(set_length - 1):\n",
    "            for j in range(i + 1, set_length):\n",
    "                Screen_name_from_one = Set_for_this_retweet[i]\n",
    "                Screen_name_from_two = Set_for_this_retweet[j]\n",
    "                list_names = [Screen_name_from_one,Screen_name_from_two]\n",
    "                list_names.sort()\n",
    "                if tuple(list_names) in Final_result_Dict:\n",
    "                    Final_result_Dict[tuple(list_names)] = Final_result_Dict[tuple(list_names)] + 1\n",
    "                \n",
    "                else:\n",
    "                    Final_result_Dict[tuple(list_names)] = 1"
   ]
  },
  {
   "cell_type": "code",
   "execution_count": null,
   "id": "1839c285",
   "metadata": {},
   "outputs": [],
   "source": [
    "final_bots = set()\n",
    "for i in Final_result_Dict:\n",
    "    if Final_result_Dict[i] > 12:\n",
    "        final_bots.add(i[0])\n",
    "        final_bots.add(i[1])\n",
    "\n",
    "final_bots = list(final_bots)\n",
    "\n",
    "count_actual_bots = []\n",
    "for i in final_bots:\n",
    "    if i in all_bots_in_2018_dataset:\n",
    "        count_actual_bots.append(i)\n",
    "\n",
    "print(len(count_actual_bots))\n",
    "print(len(final_bots))\n",
    "print(len(all_bots_in_2018_dataset))"
   ]
  },
  {
   "cell_type": "code",
   "execution_count": null,
   "id": "d0a93587",
   "metadata": {},
   "outputs": [],
   "source": [
    "tier1_final_bots = list(final_bots)\n",
    "with open(\"bots_q_30_2016_tier1.txt\" , 'w' ) as filehandle:\n",
    "    for listitem in tier1_final_bots:\n",
    "        filehandle.write('%s\\n' % listitem)"
   ]
  },
  {
   "cell_type": "code",
   "execution_count": null,
   "id": "8b9237ce",
   "metadata": {},
   "outputs": [],
   "source": [
    "# tier2_final_bots = list(final_bots)\n",
    "with open('bots_q_20_2016_tier1.txt', 'r') as in_file:\n",
    "    tier1_final_bots = in_file.read().split('\\n')\n"
   ]
  },
  {
   "cell_type": "code",
   "execution_count": null,
   "id": "04fde686",
   "metadata": {},
   "outputs": [],
   "source": [
    "print(len(tier1_final_bots))"
   ]
  },
  {
   "cell_type": "code",
   "execution_count": null,
   "id": "ca07b28a",
   "metadata": {},
   "outputs": [],
   "source": [
    "tier2_final_bots = list(set(final_bots))\n",
    "print(len(tier2_final_bots))"
   ]
  },
  {
   "cell_type": "code",
   "execution_count": null,
   "id": "73decc42",
   "metadata": {},
   "outputs": [],
   "source": [
    "total_bots_from_tiers = list(set(tier1_final_bots+tier2_final_bots))\n",
    "count_actual_bots_both_tiers = []\n",
    "for i in total_bots_from_tiers:\n",
    "    if i in all_bots_in_2018_dataset:\n",
    "        count_actual_bots_both_tiers.append(i)\n",
    "\n",
    "recall = len(count_actual_bots_both_tiers) / len(all_bots_in_2018_dataset)\n",
    "\n",
    "\n",
    "precision = len(count_actual_bots_both_tiers)/len(total_bots_from_tiers)\n"
   ]
  },
  {
   "cell_type": "code",
   "execution_count": null,
   "id": "ba44003a",
   "metadata": {},
   "outputs": [],
   "source": [
    "Total_predictions = len(unique_accounts)\n",
    "\n",
    "TP = len(count_actual_bots_both_tiers)\n",
    "FN = len(all_bots_in_2018_dataset) - len(count_actual_bots_both_tiers)\n",
    "FP = len(total_bots_from_tiers) - len(count_actual_bots_both_tiers)\n",
    "TN = Total_predictions - TP- FN- FP\n",
    "\n",
    "correct_predictions = TP + TN\n",
    "wrong_predictions = FN + FP\n",
    "Accuracy = correct_predictions/Total_predictions\n",
    "print(\"correctly  bots {}\".format(len(set(count_actual_bots_both_tiers))))\n",
    "print(\"Total bots predicted by Algo: {}\".format(len(total_bots_from_tiers)))\n",
    "print(\"Recall : {}\".format(recall))\n",
    "print(\"Precision:{}\".format(precision))\n",
    "print(\"Accuracy:{}\".format(Accuracy))"
   ]
  },
  {
   "cell_type": "code",
   "execution_count": null,
   "id": "b041475e",
   "metadata": {},
   "outputs": [],
   "source": [
    "with open(\"Ds-1_2016_predicted_bots_correctly.txt\" , 'w' ) as filehandle:\n",
    "    for listitem in count_actual_bots_both_tiers:\n",
    "        filehandle.write('%s\\n' % listitem)"
   ]
  },
  {
   "cell_type": "code",
   "execution_count": null,
   "id": "505dbc07",
   "metadata": {},
   "outputs": [],
   "source": [
    "with open(\"correct_bots_tier1_20_tier2_12_2016.txt\" , 'w' ) as filehandle:\n",
    "    for listitem in count_actual_bots_both_tiers:\n",
    "        filehandle.write('%s\\n' % listitem)"
   ]
  },
  {
   "cell_type": "code",
   "execution_count": null,
   "id": "35c8dad3",
   "metadata": {},
   "outputs": [],
   "source": []
  }
 ],
 "metadata": {
  "kernelspec": {
   "display_name": "conda_python3",
   "language": "python",
   "name": "conda_python3"
  },
  "language_info": {
   "codemirror_mode": {
    "name": "ipython",
    "version": 3
   },
   "file_extension": ".py",
   "mimetype": "text/x-python",
   "name": "python",
   "nbconvert_exporter": "python",
   "pygments_lexer": "ipython3",
   "version": "3.6.13"
  }
 },
 "nbformat": 4,
 "nbformat_minor": 5
}
